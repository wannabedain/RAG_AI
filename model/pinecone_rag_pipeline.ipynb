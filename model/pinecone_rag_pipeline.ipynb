{
 "cells": [
  {
   "cell_type": "code",
   "execution_count": 4,
   "id": "30e42cee",
   "metadata": {},
   "outputs": [
    {
     "name": "stderr",
     "output_type": "stream",
     "text": [
      "c:\\Users\\SSAFY\\AppData\\Local\\Programs\\Python\\Python312\\Lib\\site-packages\\pinecone\\data\\index.py:1: TqdmWarning: IProgress not found. Please update jupyter and ipywidgets. See https://ipywidgets.readthedocs.io/en/stable/user_install.html\n",
      "  from tqdm.autonotebook import tqdm\n"
     ]
    },
    {
     "data": {
      "text/plain": [
       "True"
      ]
     },
     "execution_count": 4,
     "metadata": {},
     "output_type": "execute_result"
    }
   ],
   "source": [
    "# Pinecone 적용과 RAG 파이프라인 구축\n",
    "\n",
    "from dotenv import load_dotenv\n",
    "import os\n",
    "from langchain_community.vectorstores import Pinecone as LangchainPinecone\n",
    "from langchain_upstage import UpstageDocumentParseLoader, UpstageEmbeddings\n",
    "from langchain.text_splitter import RecursiveCharacterTextSplitter\n",
    "from langchain_upstage import ChatUpstage\n",
    "from langchain.chains import LLMChain\n",
    "from langchain.prompts.chat import ChatPromptTemplate\n",
    "from langchain.output_parsers import RetryOutputParser\n",
    "from pinecone import Pinecone, ServerlessSpec\n",
    "\n",
    "# 1. 환경 변수 로드\n",
    "load_dotenv()\n",
    "\n"
   ]
  },
  {
   "cell_type": "code",
   "execution_count": 9,
   "id": "0b3bd281",
   "metadata": {},
   "outputs": [],
   "source": [
    "# Pinecone 클라이언트 설정\n",
    "pc = Pinecone(\n",
    "    api_key=os.getenv(\"PINECONE_API_KEY\"),\n",
    ")"
   ]
  },
  {
   "cell_type": "code",
   "execution_count": 27,
   "id": "4acc50e9",
   "metadata": {},
   "outputs": [],
   "source": [
    "# Pinecone 인덱스 생성\n",
    "index_name = \"multilingual-e5-large\"\n",
    "\n",
    "if index_name not in pc.list_indexes().names():\n",
    "    pc.create_index(\n",
    "        name=index_name,\n",
    "        dimension=4096,  # 임베딩 벡터 크기\n",
    "        metric=\"euclidean\",\n",
    "        spec=ServerlessSpec(\n",
    "            cloud=\"aws\",\n",
    "            region=os.getenv(\"PINECONE_ENVIRONMENT\"),\n",
    "        ),\n",
    "    )"
   ]
  },
  {
   "cell_type": "code",
   "execution_count": 26,
   "id": "6dd70d2e",
   "metadata": {},
   "outputs": [],
   "source": [
    "# pc.delete_index(index_name)\n",
    "## 임베팅 모델 출력 차원에 맞게 설정할려고 지움.\n",
    "## 임베딩 모델의 출력 차원이 4096, 따라서, 처음에 설정했던 1024에서 4096로 바꿈꿈"
   ]
  },
  {
   "cell_type": "code",
   "execution_count": 15,
   "id": "649a85b2",
   "metadata": {},
   "outputs": [
    {
     "name": "stdout",
     "output_type": "stream",
     "text": [
      "Files to process: ['C:\\\\Users\\\\SSAFY\\\\Desktop\\\\AI\\\\data\\\\국민은행_신년사.pdf', 'C:\\\\Users\\\\SSAFY\\\\Desktop\\\\AI\\\\data\\\\한국은행_신년사.pdf']\n",
      "Loaded document: C:\\Users\\SSAFY\\Desktop\\AI\\data\\국민은행_신년사.pdf\n",
      "Loaded document: C:\\Users\\SSAFY\\Desktop\\AI\\data\\한국은행_신년사.pdf\n"
     ]
    }
   ],
   "source": [
    "# 2. 데이터 수집 및 문서 로드\n",
    "directory_path = r\"C:\\Users\\SSAFY\\Desktop\\AI\\data\"\n",
    "file_paths = [os.path.join(directory_path, file) for file in os.listdir(directory_path) if file.endswith('.pdf')]\n",
    "\n",
    "print(f\"Files to process: {file_paths}\")\n",
    "\n",
    "# 문서 로드\n",
    "loaded_documents = []\n",
    "for file_path in file_paths:\n",
    "    try:\n",
    "        loader = UpstageDocumentParseLoader(file_path, \n",
    "                                            output_format='html', \n",
    "                                            coordinates=False)\n",
    "        document = loader.load()\n",
    "        \n",
    "        # 파일명 metatdata에 추가\n",
    "        for page in document:\n",
    "            page.metadata[\"file_name\"] = os.path.basename(file_path)  \n",
    "        loaded_documents.append(document)\n",
    "        print(f\"Loaded document: {file_path}\")\n",
    "    except Exception as e:\n",
    "        print(f\"Error loading {file_path}: {e}\")"
   ]
  },
  {
   "cell_type": "code",
   "execution_count": 16,
   "id": "345a6629",
   "metadata": {},
   "outputs": [
    {
     "name": "stdout",
     "output_type": "stream",
     "text": [
      "전체 청크 개수: 11\n",
      "{'total_pages': 4, 'file_name': '국민은행_신년사.pdf'}\n"
     ]
    }
   ],
   "source": [
    "# 3. 청크 분할\n",
    "text_splitter = RecursiveCharacterTextSplitter(chunk_size=2000, chunk_overlap=200)\n",
    "texts = []\n",
    "for doc in loaded_documents:\n",
    "    texts.extend(text_splitter.split_documents(doc))\n",
    "\n",
    "print(f\"전체 청크 개수: {len(texts)}\")\n",
    "print(texts[1].metadata)"
   ]
  },
  {
   "cell_type": "code",
   "execution_count": 28,
   "id": "cd18154b",
   "metadata": {},
   "outputs": [],
   "source": [
    "# 4. 임베딩 생성 및 벡터 DB 구축\n",
    "embeddings = UpstageEmbeddings(model=\"solar-embedding-1-large\")\n",
    "\n",
    "# 텍스트와 메타데이터, ID 매핑\n",
    "texts_to_store = [text.page_content for text in texts]\n",
    "metadatas = [text.metadata for text in texts]\n",
    "ids = [f\"text-{i}\" for i in range(len(texts))]  # 고유 ID 생성\n",
    "\n",
    "# 벡터 DB 생성 및 데이터 추가\n",
    "vectorstore = LangchainPinecone.from_texts(\n",
    "    texts=texts_to_store,\n",
    "    embedding=embeddings,\n",
    "    metadatas=metadatas,\n",
    "    ids=ids,\n",
    "    index_name=index_name\n",
    ")"
   ]
  },
  {
   "cell_type": "markdown",
   "id": "76fe5eca",
   "metadata": {},
   "source": [
    "================================================================================\n",
    "### App.py 부분"
   ]
  },
  {
   "cell_type": "code",
   "execution_count": 2,
   "id": "eff9f798",
   "metadata": {},
   "outputs": [
    {
     "name": "stderr",
     "output_type": "stream",
     "text": [
      "c:\\Users\\SSAFY\\AppData\\Local\\Programs\\Python\\Python312\\Lib\\site-packages\\pinecone\\data\\index.py:1: TqdmWarning: IProgress not found. Please update jupyter and ipywidgets. See https://ipywidgets.readthedocs.io/en/stable/user_install.html\n",
      "  from tqdm.autonotebook import tqdm\n"
     ]
    }
   ],
   "source": [
    "from dotenv import load_dotenv\n",
    "import os\n",
    "from langchain_community.vectorstores import Pinecone as LangchainPinecone\n",
    "from langchain_upstage import UpstageDocumentParseLoader, UpstageEmbeddings\n",
    "from langchain.text_splitter import RecursiveCharacterTextSplitter\n",
    "from langchain_upstage import ChatUpstage\n",
    "from langchain.chains import LLMChain\n",
    "from langchain.prompts.chat import ChatPromptTemplate\n",
    "from langchain.output_parsers import RetryOutputParser\n",
    "from pinecone import Pinecone, ServerlessSpec"
   ]
  },
  {
   "cell_type": "code",
   "execution_count": 5,
   "id": "eca8985a",
   "metadata": {},
   "outputs": [],
   "source": [
    "# 1. 환경 변수 로드\n",
    "load_dotenv()\n",
    "\n",
    "# Pinecone 클라이언트 설정\n",
    "pc = Pinecone(\n",
    "    api_key=os.getenv(\"PINECONE_API_KEY\"),\n",
    ")"
   ]
  },
  {
   "cell_type": "code",
   "execution_count": 6,
   "id": "889f9daf",
   "metadata": {},
   "outputs": [],
   "source": [
    "# Pinecone 검색 : 이미 생성한 Pinecone 인덱스를 불러오기\n",
    "\n",
    "vectorstore = LangchainPinecone.from_existing_index(\n",
    "    index_name='ssafy-index',  # 기존에 사용한 인덱스 이름\n",
    "    embedding=UpstageEmbeddings(model=\"solar-embedding-1-large\")  # 동일한 임베딩 모델\n",
    ")"
   ]
  },
  {
   "cell_type": "code",
   "execution_count": 7,
   "id": "ca0fba83",
   "metadata": {},
   "outputs": [],
   "source": [
    "# 5. Retriever 설정 : MMR(Minimal Marginal Relevance) 알고리즘을 사용하여 관련성 높은 문서 검색\n",
    "retriever = vectorstore.as_retriever(\n",
    "    search_type=\"mmr\",  # mmr 알고리즘으로 검색\n",
    "    search_kwargs={\"k\": 3, \"threshold\": 0.7}  # 검색 결과 상위 3개 반환, 유사도 임계값 0.7\n",
    ")"
   ]
  },
  {
   "cell_type": "code",
   "execution_count": 15,
   "id": "7efad505",
   "metadata": {},
   "outputs": [],
   "source": [
    "\n",
    "#6. 프롬프트 정의\n",
    "prompt = ChatPromptTemplate.from_messages([\n",
    "    (\"system\", \"\"\"\n",
    "        너는 기업 신년사 PDF 문서로 학습된 기업 분석 AI 챗봇입니다. 사용자 질문에 대해 문서에 있는 내용으로로 답변하세요.\n",
    "        문서에 없는 내용이라면 '알 수 없습니다'라고 답변하세요.\n",
    "        아래는 출력 형식 예제입니다. 항상 동일한 형식으로 출력해야 합니다.\n",
    "        주요 키워드는 3개 이하, 지원 관련 경험 추천도 3개 이하입니다.\n",
    "        \n",
    "        ### 출력 형식 예제\n",
    "        | **구분**            | **내용**                                                                                 |\n",
    "        |---------------------|-----------------------------------------------------------------------------------------|\n",
    "        | **정보 요약**       | LG의 신년사에서는 고객 중심 경영 강화, 신사업 영역 확대(AI 및 친환경 기술), 내부 디지털 전환 가속화가 주요 전략으로 제시되었습니다. |\n",
    "        | **주요 키워드**     | 고객 중심, 신사업(AI, 친환경), 디지털 전환, 글로벌 시장 확대                      |\n",
    "        | **지원 관련 경험 추천** | - 고객 중심 경영: 과거 고객 데이터를 분석하여 서비스 개선 경험<br>- 신사업 영역: AI 기반 프로젝트에 참여하여 새로운 서비스 설계 경험<br>- 디지털 전환: 기업 내 시스템 디지털화 프로젝트 수행 경험 |\n",
    "\n",
    "        문서가 없는 경우의 출력 예제:\n",
    "        | **구분**            | **내용**                     |\n",
    "        |---------------------|-----------------------------|\n",
    "        | **정보 요약**       | 문서에 해당 질문에 대한 정보가 없습니다. |\n",
    "        | **주요 키워드**     | 없음                        |\n",
    "        | **지원 관련 경험 추천** | 없음                        |\n",
    "\n",
    "        항상 위와 같은 형식을 유지하세요.\n",
    "        ---\n",
    "        CONTEXT:\n",
    "        {context}\n",
    "    \"\"\"),\n",
    "    (\"human\", \"{input}\")\n",
    "])\n",
    "\n",
    "# LLM 모델 설정\n",
    "llm = ChatUpstage(model=\"solar-pro\")\n",
    "\n",
    "# 체인 구성\n",
    "chain = LLMChain(\n",
    "    prompt=prompt,\n",
    "    llm=llm)  # output_parser=RetryOutputParser() 안됨됨"
   ]
  },
  {
   "cell_type": "code",
   "execution_count": 1,
   "id": "e269fe7e",
   "metadata": {},
   "outputs": [
    {
     "ename": "NameError",
     "evalue": "name 'retriever' is not defined",
     "output_type": "error",
     "traceback": [
      "\u001b[1;31m---------------------------------------------------------------------------\u001b[0m",
      "\u001b[1;31mNameError\u001b[0m                                 Traceback (most recent call last)",
      "Cell \u001b[1;32mIn[1], line 9\u001b[0m\n\u001b[0;32m      7\u001b[0m \u001b[38;5;66;03m# 7-1. 문서 검색\u001b[39;00m\n\u001b[0;32m      8\u001b[0m start_time \u001b[38;5;241m=\u001b[39m time\u001b[38;5;241m.\u001b[39mtime()\n\u001b[1;32m----> 9\u001b[0m retrieved_docs \u001b[38;5;241m=\u001b[39m \u001b[43mretriever\u001b[49m\u001b[38;5;241m.\u001b[39minvoke(query)\n\u001b[0;32m     10\u001b[0m \u001b[38;5;28mprint\u001b[39m(\u001b[38;5;124mf\u001b[39m\u001b[38;5;124m\"\u001b[39m\u001b[38;5;124mRetriever 실행 시간: \u001b[39m\u001b[38;5;132;01m{\u001b[39;00mtime\u001b[38;5;241m.\u001b[39mtime()\u001b[38;5;250m \u001b[39m\u001b[38;5;241m-\u001b[39m\u001b[38;5;250m \u001b[39mstart_time\u001b[38;5;132;01m:\u001b[39;00m\u001b[38;5;124m.2f\u001b[39m\u001b[38;5;132;01m}\u001b[39;00m\u001b[38;5;124m초\u001b[39m\u001b[38;5;124m\"\u001b[39m)\n\u001b[0;32m     12\u001b[0m \u001b[38;5;66;03m# 7-2. 검색된 문서 텍스트 가져오기\u001b[39;00m\n",
      "\u001b[1;31mNameError\u001b[0m: name 'retriever' is not defined"
     ]
    }
   ],
   "source": [
    "import time\n",
    "from concurrent.futures import ThreadPoolExecutor, TimeoutError\n",
    "\n",
    "# 7. 질문 및 답변 생성\n",
    "query = \"국민은행의 주요 사업 전략은 무엇인가요?\"\n",
    "\n",
    "# 7-1. 문서 검색\n",
    "start_time = time.time()\n",
    "retrieved_docs = retriever.invoke(query)\n",
    "print(f\"Retriever 실행 시간: {time.time() - start_time:.2f}초\")\n",
    "\n",
    "# 7-2. 검색된 문서 텍스트 가져오기\n",
    "context = \"\\n\".join([doc.page_content[:500] for doc in retrieved_docs])\n",
    "\n",
    "# 7-3. 응답 생성 (타임아웃 설정)\n",
    "def generate_response():\n",
    "    return chain.invoke({\"context\": context, \"input\": query})\n",
    "\n",
    "try:\n",
    "    with ThreadPoolExecutor() as executor:\n",
    "        future = executor.submit(generate_response)\n",
    "        response = future.result(timeout=30)  # 30초로 제한\n",
    "        print(\"Generated Response:\", response)\n",
    "except TimeoutError:\n",
    "    print(\"응답 생성 시간이 초과되었습니다. 작업이 강제 종료됩니다.\")"
   ]
  },
  {
   "cell_type": "code",
   "execution_count": 44,
   "id": "905ae5b5",
   "metadata": {},
   "outputs": [
    {
     "data": {
      "text/plain": [
       "4"
      ]
     },
     "execution_count": 44,
     "metadata": {},
     "output_type": "execute_result"
    }
   ],
   "source": [
    "len(retrieved_docs)"
   ]
  }
 ],
 "metadata": {
  "kernelspec": {
   "display_name": "Python 3",
   "language": "python",
   "name": "python3"
  },
  "language_info": {
   "codemirror_mode": {
    "name": "ipython",
    "version": 3
   },
   "file_extension": ".py",
   "mimetype": "text/x-python",
   "name": "python",
   "nbconvert_exporter": "python",
   "pygments_lexer": "ipython3",
   "version": "3.12.8"
  }
 },
 "nbformat": 4,
 "nbformat_minor": 5
}
