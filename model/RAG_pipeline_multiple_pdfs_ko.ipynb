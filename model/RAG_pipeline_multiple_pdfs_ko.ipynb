{
 "cells": [
  {
   "cell_type": "markdown",
   "id": "438e95c6",
   "metadata": {},
   "source": [
    "# 다중 PDF 파일을 활용한 RAG 파이프라인 구현"
   ]
  },
  {
   "cell_type": "markdown",
   "id": "0cb80d47",
   "metadata": {},
   "source": [
    "\n",
    "이 노트북은 다음과 같은 기능을 가진 Retrieval-Augmented Generation (RAG) 파이프라인을 구현\n",
    "- 여러 PDF 파일을 효율적으로 처리\n",
    "- Pinecone을 이용한 벡터 데이터베이스 설정 및 Upstage Solar Embedding 활용\n",
    "- 근데 일단 Faiss\n",
    "- 하이퍼파라미터 튜닝이 적용된 검색 및 선택적 재정렬\n",
    "- Upstage Solar Pro를 이용한 답변 생성 및 Upstage Groundness Check API를 통한 평가\n"
   ]
  },
  {
   "cell_type": "code",
   "execution_count": null,
   "id": "fbff2e86",
   "metadata": {},
   "outputs": [
    {
     "ename": "ImportError",
     "evalue": "cannot import name 'GroundnessCheckAPI' from 'langchain.evaluation' (c:\\Users\\SSAFY\\AppData\\Local\\Programs\\Python\\Python312\\Lib\\site-packages\\langchain\\evaluation\\__init__.py)",
     "output_type": "error",
     "traceback": [
      "\u001b[1;31m---------------------------------------------------------------------------\u001b[0m",
      "\u001b[1;31mImportError\u001b[0m                               Traceback (most recent call last)",
      "Cell \u001b[1;32mIn[4], line 9\u001b[0m\n\u001b[0;32m      7\u001b[0m \u001b[38;5;28;01mfrom\u001b[39;00m \u001b[38;5;21;01mlangchain\u001b[39;00m\u001b[38;5;21;01m.\u001b[39;00m\u001b[38;5;21;01mchains\u001b[39;00m \u001b[38;5;28;01mimport\u001b[39;00m RetrievalQA\n\u001b[0;32m      8\u001b[0m \u001b[38;5;28;01mfrom\u001b[39;00m \u001b[38;5;21;01mlangchain\u001b[39;00m\u001b[38;5;21;01m.\u001b[39;00m\u001b[38;5;21;01mprompts\u001b[39;00m \u001b[38;5;28;01mimport\u001b[39;00m PromptTemplate\n\u001b[1;32m----> 9\u001b[0m \u001b[38;5;28;01mfrom\u001b[39;00m \u001b[38;5;21;01mlangchain\u001b[39;00m\u001b[38;5;21;01m.\u001b[39;00m\u001b[38;5;21;01mevaluation\u001b[39;00m \u001b[38;5;28;01mimport\u001b[39;00m GroundnessCheckAPI\n\u001b[0;32m     10\u001b[0m \u001b[38;5;28;01mfrom\u001b[39;00m \u001b[38;5;21;01mpinecone\u001b[39;00m \u001b[38;5;28;01mimport\u001b[39;00m Pinecone, ServerlessSpec\n\u001b[0;32m     11\u001b[0m \u001b[38;5;28;01mfrom\u001b[39;00m \u001b[38;5;21;01mlangchain\u001b[39;00m\u001b[38;5;21;01m.\u001b[39;00m\u001b[38;5;21;01membeddings\u001b[39;00m \u001b[38;5;28;01mimport\u001b[39;00m HuggingFaceEmbeddings\n",
      "\u001b[1;31mImportError\u001b[0m: cannot import name 'GroundnessCheckAPI' from 'langchain.evaluation' (c:\\Users\\SSAFY\\AppData\\Local\\Programs\\Python\\Python312\\Lib\\site-packages\\langchain\\evaluation\\__init__.py)"
     ]
    }
   ],
   "source": [
    "\n",
    "# 필요한 라이브러리 임포트\n",
    "from dotenv import load_dotenv\n",
    "from langchain.document_loaders import PyPDFLoader\n",
    "from langchain.text_splitter import RecursiveCharacterTextSplitter\n",
    "from langchain.vectorstores import Pinecone\n",
    "from langchain_upstage import UpstageEmbeddings\n",
    "from langchain.chains import RetrievalQA\n",
    "from langchain.prompts import PromptTemplate\n",
    "from pinecone import Pinecone, ServerlessSpec\n",
    "from langchain.embeddings import HuggingFaceEmbeddings\n",
    "from langchain.indexes import VectorstoreIndexCreator\n",
    "from langchain_upstage import ChatUpstage\n",
    "from langchain_core.prompts import ChatPromptTemplate\n",
    "from langchain_core.output_parsers import StrOutputParse\n",
    "\n",
    "import pinecone\n",
    "import os\n",
    "\n",
    "# Pinecone 초기화\n",
    "load_dotenv()"
   ]
  },
  {
   "cell_type": "code",
   "execution_count": null,
   "id": "e270e52d",
   "metadata": {},
   "outputs": [],
   "source": [
    "\n",
    "# Pinecone 클라이언트 설정\n",
    "pc = Pinecone(\n",
    "    api_key=os.getenv(\"PINECONE_API_KEY\"),\n",
    ")\n",
    "\n",
    "\n",
    "# Pinecone 인덱스 생성\n",
    "index_name = \"document-index\"\n",
    "if index_name not in pc.list_indexes().names():\n",
    "    pc.create_index(\n",
    "        name=index_name,\n",
    "        dimension=1024,\n",
    "        metric=\"euclidean\",\n",
    "        spec=ServerlessSpec(\n",
    "            cloud=\"aws\",\n",
    "            region=os.getenv(\"PINECONE_ENVIRONMENT\"),\n",
    "        ),\n",
    "    )\n",
    "\n"
   ]
  },
  {
   "cell_type": "code",
   "execution_count": null,
   "id": "0e315131",
   "metadata": {},
   "outputs": [],
   "source": [
    "\n",
    "# 여러 PDF 파일을 처리하고 텍스트를 청크로 나누는 함수\n",
    "def process_pdfs(pdf_files, chunk_size=1000, chunk_overlap=100):\n",
    "    all_documents = []\n",
    "    splitter = RecursiveCharacterTextSplitter(chunk_size=chunk_size, chunk_overlap=chunk_overlap)\n",
    "    \n",
    "    for pdf_file in pdf_files:\n",
    "        loader = PyPDFLoader(pdf_file)\n",
    "        documents = loader.load()\n",
    "        texts = splitter.split_documents(documents)\n",
    "        all_documents.extend(texts)\n",
    "    \n",
    "    return all_documents\n",
    "\n",
    "# 예제: 여러 PDF 파일 처리\n",
    "pdf_files = [\"Hyundai_NewYear.pdf\", \"LG_NewYear.pdf\", \"Samsung_NewYear.pdf\", \"SK_NewYear.pdf\", \"CJ_NewYear.pdf\"]\n",
    "documents = process_pdfs(pdf_files)\n"
   ]
  },
  {
   "cell_type": "code",
   "execution_count": null,
   "id": "71ce9da8",
   "metadata": {},
   "outputs": [],
   "source": [
    "\n",
    "# 임베딩 및 벡터 DB 설정\n",
    "embedding_model = UpstageEmbeddings(model=\"solar-embedding-1-large\")\n",
    "index_name = \"new-year-speeches\"\n",
    "\n",
    "if index_name not in pinecone.list_indexes():\n",
    "    pinecone.create_index(index_name, dimension=embedding_model.dimension)\n",
    "\n",
    "vector_db = Pinecone(index=pinecone.Index(index_name), embedding_function=embedding_model.embed)\n",
    "\n",
    "# 벡터 데이터베이스에 문서 추가\n",
    "vector_db.add_texts(documents)\n"
   ]
  },
  {
   "cell_type": "code",
   "execution_count": null,
   "id": "0e9a0e59",
   "metadata": {},
   "outputs": [],
   "source": [
    "\n",
    "# 검색기 설정 (하이퍼파라미터 튜닝 포함)\n",
    "retriever = vector_db.as_retriever(search_type=\"similarity\", search_kwargs={\"k\": 4, \"similarity_threshold\": 0.7})\n",
    "\n",
    "# 선택적 재정렬기 추가\n",
    "from langchain.retrievers import CrossEncoderReranker\n",
    "reranker = CrossEncoderReranker(retriever=retriever, rerank_top_k=10)\n"
   ]
  },
  {
   "cell_type": "code",
   "execution_count": null,
   "id": "827ef9ce",
   "metadata": {},
   "outputs": [],
   "source": [
    "\n",
    "# Upstage Solar Pro를 이용한 QA 체인 설정\n",
    "llm = UpstageSolar()\n",
    "qa_chain = RetrievalQA(llm=llm, retriever=retriever)\n",
    "\n",
    "# 예제 질문\n",
    "query = \"2025년 신년사에서 제시된 주요 목표는 무엇인가요?\"\n",
    "response = qa_chain.run(query)\n",
    "\n",
    "# Groundness Check API를 이용한 응답 평가\n",
    "evaluator = GroundnessCheckAPI()\n",
    "evaluation = evaluator.evaluate(response)\n",
    "print(\"생성된 응답:\", response)\n",
    "print(\"평가 결과:\", evaluation)\n"
   ]
  },
  {
   "cell_type": "markdown",
   "id": "bc647f10",
   "metadata": {},
   "source": [
    "\n",
    "## 요약\n",
    "이 노트북은 여러 PDF 파일을 처리하고, 효율적인 검색 및 평가 기능을 제공하는 완전한 RAG 파이프라인을 구현합니다. API 키와 파일 경로를 실제 값으로 대체하여 실행해보세요.\n"
   ]
  }
 ],
 "metadata": {
  "kernelspec": {
   "display_name": "Python 3",
   "language": "python",
   "name": "python3"
  },
  "language_info": {
   "codemirror_mode": {
    "name": "ipython",
    "version": 3
   },
   "file_extension": ".py",
   "mimetype": "text/x-python",
   "name": "python",
   "nbconvert_exporter": "python",
   "pygments_lexer": "ipython3",
   "version": "3.12.8"
  }
 },
 "nbformat": 4,
 "nbformat_minor": 5
}
